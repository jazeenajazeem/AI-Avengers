{
  "nbformat": 4,
  "nbformat_minor": 0,
  "metadata": {
    "colab": {
      "provenance": [],
      "toc_visible": true
    },
    "kernelspec": {
      "name": "python3",
      "display_name": "Python 3"
    },
    "language_info": {
      "name": "python"
    }
  },
  "cells": [
    {
      "cell_type": "code",
      "execution_count": null,
      "metadata": {
        "colab": {
          "base_uri": "https://localhost:8080/"
        },
        "id": "grWKIcRioYns",
        "outputId": "4893d69f-f452-478e-9e05-0c68890ca21a"
      },
      "outputs": [
        {
          "output_type": "stream",
          "name": "stdout",
          "text": [
            "Jazeena\n"
          ]
        }
      ],
      "source": [
        "print(\"Jazeena\")\n"
      ]
    },
    {
      "cell_type": "code",
      "source": [
        "print(\"Araoluwa\")"
      ],
      "metadata": {
        "id": "ymjS6wmSvYoY",
        "outputId": "0b410494-a635-4ea6-eb60-c7a61d61fee9",
        "colab": {
          "base_uri": "https://localhost:8080/"
        }
      },
      "execution_count": 1,
      "outputs": [
        {
          "output_type": "stream",
          "name": "stdout",
          "text": [
            "Araoluwa\n"
          ]
        }
      ]
    },
    {
      "cell_type": "code",
      "source": [
        "print(\"sakthy\")"
      ],
      "metadata": {
        "id": "SL52EGR9qE5l",
        "outputId": "c77fcca7-36fb-41a9-d83f-37647214fe15",
        "colab": {
          "base_uri": "https://localhost:8080/"
        }
      },
      "execution_count": null,
      "outputs": [
        {
          "output_type": "stream",
          "name": "stdout",
          "text": [
            "sakthy\n"
          ]
        }
      ]
    }
  ]
}