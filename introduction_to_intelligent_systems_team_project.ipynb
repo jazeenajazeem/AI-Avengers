{
  "nbformat": 4,
  "nbformat_minor": 0,
  "metadata": {
    "colab": {
      "provenance": [],
      "toc_visible": true,
      "include_colab_link": true
    },
    "kernelspec": {
      "name": "python3",
      "display_name": "Python 3"
    },
    "language_info": {
      "name": "python"
    }
  },
  "cells": [
    {
      "cell_type": "markdown",
      "metadata": {
        "id": "view-in-github",
        "colab_type": "text"
      },
      "source": [
        "<a href=\"https://colab.research.google.com/github/jazeenajazeem/AI-Avengers/blob/main/introduction_to_intelligent_systems_team_project.ipynb\" target=\"_parent\"><img src=\"https://colab.research.google.com/assets/colab-badge.svg\" alt=\"Open In Colab\"/></a>"
      ]
    },
    {
      "cell_type": "code",
      "execution_count": null,
      "metadata": {
        "colab": {
          "base_uri": "https://localhost:8080/"
        },
        "id": "grWKIcRioYns",
        "outputId": "4893d69f-f452-478e-9e05-0c68890ca21a"
      },
      "outputs": [
        {
          "output_type": "stream",
          "name": "stdout",
          "text": [
            "Jazeena\n"
          ]
        }
      ],
      "source": [
        "print(\"Jazeena\")\n"
      ]
    },
    {
      "cell_type": "code",
      "source": [
        "print(\"Ara\")"
      ],
      "metadata": {
        "id": "SL52EGR9qE5l",
        "outputId": "b0690a84-d809-4451-bc25-b0e181629c7f",
        "colab": {
          "base_uri": "https://localhost:8080/"
        }
      },
      "execution_count": 2,
      "outputs": [
        {
          "output_type": "stream",
          "name": "stdout",
          "text": [
            "Ara\n"
          ]
        }
      ]
    },
    {
      "cell_type": "code",
      "source": [],
      "metadata": {
        "id": "kiF-8ynBtKR_"
      },
      "execution_count": null,
      "outputs": []
    }
  ]
}