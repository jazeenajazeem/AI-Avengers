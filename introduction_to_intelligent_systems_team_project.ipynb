{
  "nbformat": 4,
  "nbformat_minor": 0,
  "metadata": {
    "colab": {
      "provenance": [],
      "toc_visible": true,
      "include_colab_link": true
    },
    "kernelspec": {
      "name": "python3",
      "display_name": "Python 3"
    },
    "language_info": {
      "name": "python"
    }
  },
  "cells": [
    {
      "cell_type": "markdown",
      "metadata": {
        "id": "view-in-github",
        "colab_type": "text"
      },
      "source": [
        "<a href=\"https://colab.research.google.com/github/jazeenajazeem/AI-Avengers/blob/main/introduction_to_intelligent_systems_team_project.ipynb\" target=\"_parent\"><img src=\"https://colab.research.google.com/assets/colab-badge.svg\" alt=\"Open In Colab\"/></a>"
      ]
    },
    {
      "cell_type": "code",
      "execution_count": null,
      "metadata": {
        "colab": {
          "base_uri": "https://localhost:8080/"
        },
        "id": "grWKIcRioYns",
        "outputId": "4893d69f-f452-478e-9e05-0c68890ca21a"
      },
      "outputs": [
        {
          "output_type": "stream",
          "name": "stdout",
          "text": [
            "Jazeena\n"
          ]
        }
      ],
      "source": [
        "print(\"Jazeena\")\n",
        "\n",
        "\n",
        "\n",
        "print(\"filip\")\n"
      ]
    },
    {
      "cell_type": "code",
      "source": [
        "print(\"Jazeena\")"
      ],
      "metadata": {
        "colab": {
          "base_uri": "https://localhost:8080/"
        },
        "id": "jLhnVcIKrwFG",
        "outputId": "99d78a9b-b029-4435-d1e8-8ca647e85eb1"
      },
      "execution_count": null,
      "outputs": [
        {
          "output_type": "stream",
          "name": "stdout",
          "text": [
            "Jazeena\n"
          ]
        }
      ]
    },
    {
      "cell_type": "code",
      "source": [
        "print(('Testing'))"
      ],
      "metadata": {
        "id": "SL52EGR9qE5l"
      },
      "execution_count": null,
      "outputs": []
    },
    {
      "cell_type": "code",
      "source": [
        "print(\"update test\")"
      ],
      "metadata": {
        "colab": {
          "base_uri": "https://localhost:8080/"
        },
        "id": "ogDtVL1Ix8YV",
        "outputId": "51fe7fe5-fcc4-48f8-ca85-b5ebfc57ad20"
      },
      "execution_count": null,
      "outputs": [
        {
          "output_type": "stream",
          "name": "stdout",
          "text": [
            "update test\n"
          ]
        }
      ]
    }
  ]
}